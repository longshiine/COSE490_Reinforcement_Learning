{
 "cells": [
  {
   "cell_type": "markdown",
   "metadata": {},
   "source": [
    "### See the following sites as references "
   ]
  },
  {
   "cell_type": "code",
   "execution_count": 6,
   "metadata": {
    "ExecuteTime": {
     "end_time": "2021-05-15T09:52:05.167692Z",
     "start_time": "2021-05-15T09:52:05.162692Z"
    }
   },
   "outputs": [
    {
     "data": {
      "text/plain": [
       "'\\nReferences:\\nTAXI environment github sourcecode and description\\nhttps://github.com/openai/gym/blob/master/gym/envs/toy_text/taxi.py\\n\\nDQN:\\nhttps://tutorials.pytorch.kr/intermediate/reinforcement_q_learning.html\\n\\nGit repos:\\nhttps://github.com/gandroz/rl-taxi/blob/main/pytorch/taxi_demo_pytorch.ipynb\\nhttps://github.com/seungeunrho/minimalRL/blob/master/dqn.py\\n\\nOther references\\nhttps://pytorch.org/docs/stable/generated/torch.nn.SmoothL1Loss.html\\n\\n'"
      ]
     },
     "execution_count": 6,
     "metadata": {},
     "output_type": "execute_result"
    }
   ],
   "source": [
    "\"\"\"\n",
    "References:\n",
    "TAXI environment github sourcecode and description\n",
    "https://github.com/openai/gym/blob/master/gym/envs/toy_text/taxi.py\n",
    "\n",
    "DQN:\n",
    "https://tutorials.pytorch.kr/intermediate/reinforcement_q_learning.html\n",
    "\n",
    "Git repos:\n",
    "https://github.com/gandroz/rl-taxi/blob/main/pytorch/taxi_demo_pytorch.ipynb\n",
    "https://github.com/seungeunrho/minimalRL/blob/master/dqn.py\n",
    "\n",
    "\"\"\""
   ]
  },
  {
   "cell_type": "markdown",
   "metadata": {},
   "source": [
    "### Import packages"
   ]
  },
  {
   "cell_type": "code",
   "execution_count": 7,
   "metadata": {
    "ExecuteTime": {
     "end_time": "2021-05-15T09:52:05.603124Z",
     "start_time": "2021-05-15T09:52:05.591132Z"
    }
   },
   "outputs": [
    {
     "data": {
      "text/plain": [
       "<torch._C.Generator at 0x7ff0ea48e9f0>"
      ]
     },
     "execution_count": 7,
     "metadata": {},
     "output_type": "execute_result"
    }
   ],
   "source": [
    "import random\n",
    "from collections import deque\n",
    "\n",
    "import gym\n",
    "import numpy as np\n",
    "import matplotlib.pyplot as plt\n",
    "from tqdm.notebook import tqdm\n",
    "\n",
    "import torch\n",
    "import torch.nn as nn\n",
    "import torch.nn.functional as F\n",
    "import torch.optim as optim\n",
    "\n",
    "from scipy.stats import ks_2samp\n",
    "from IPython.display import Image\n",
    "\n",
    "torch.manual_seed(42)  # we fix the random seed for the same wieght initialization"
   ]
  },
  {
   "cell_type": "markdown",
   "metadata": {},
   "source": [
    "### Parameters for optimization\n",
    "- <font color='red'> You SHOULD optimize some paramters</font>"
   ]
  },
  {
   "cell_type": "code",
   "execution_count": 8,
   "metadata": {
    "ExecuteTime": {
     "end_time": "2021-05-15T09:52:06.401399Z",
     "start_time": "2021-05-15T09:52:06.389400Z"
    }
   },
   "outputs": [],
   "source": [
    "# Do not change the following parameters\n",
    "GAMMA=0.9\n",
    "EPISODES = 15000\n",
    "MEMORY_SIZE = 50000\n",
    "\n",
    "# Optimize the following parameters:\n",
    "EPSILON=1.0  # this is the \"initial\" Epsilon. \n",
    "             # So do NOT change this initial value, \n",
    "             # but later, it is better to decrease it in the training process.\n",
    "\n",
    "### we intentionally changed the following parameters away from their optimized values.\n",
    "### Hence, you MUST optimize the following parameters in your way\n",
    "BATCH_SIZE = 128\n",
    "LEARNING_RATE = 0.0015\n",
    "TARGET_UPDATE = 20"
   ]
  },
  {
   "cell_type": "markdown",
   "metadata": {},
   "source": [
    "### Classes and Functions\n",
    "- Class\n",
    "    - DQN: Model class. There are two identical DQNs exist in this framework. You can change the shape of network.\n",
    "         - current_dqn\n",
    "         - target_dqn\n",
    "    - Memory: Memory class. Implementing Experience Replay (ER) technique for DQN training\n",
    "        - Save data gathered from current_dqn (called memory)\n",
    "        - Give training data (randomly sampled from whole memory) to DQN\n",
    "- Function\n",
    "    - ε-greedy\n",
    "    - Training"
   ]
  },
  {
   "cell_type": "code",
   "execution_count": 9,
   "metadata": {
    "ExecuteTime": {
     "end_time": "2021-05-15T09:52:07.244706Z",
     "start_time": "2021-05-15T09:52:07.227705Z"
    }
   },
   "outputs": [],
   "source": [
    "env = gym.make(\"Taxi-v3\")\n",
    "\n",
    "class DQN(nn.Module):\n",
    "    def __init__(self):\n",
    "        super(DQN, self).__init__()\n",
    "        self.fc1 = nn.Linear(in_features=4, out_features=50)\n",
    "        self.fc2 = nn.Linear(in_features=50, out_features=50)\n",
    "        self.fc3 = nn.Linear(in_features=50, out_features=6)\n",
    "        \n",
    "        # He initialization for the weights (with ReLU)\n",
    "        nn.init.kaiming_normal_(self.fc1.weight, nonlinearity='relu')\n",
    "        nn.init.kaiming_normal_(self.fc2.weight, nonlinearity='relu')\n",
    "        nn.init.kaiming_normal_(self.fc3.weight, nonlinearity='relu')\n",
    "        \n",
    "    def forward(self, x):\n",
    "        x = x.view(-1, 4)\n",
    "        x = F.relu(self.fc1(x))\n",
    "        x = F.relu(self.fc2(x))\n",
    "        x = self.fc3(x)\n",
    "        \n",
    "        return x\n",
    "    \n",
    "    \n",
    "class Memory():\n",
    "    def __init__(self):\n",
    "        self.memory = deque(maxlen=MEMORY_SIZE)\n",
    "        \n",
    "    def put(self, transition):\n",
    "        self.memory.append(transition)\n",
    "        \n",
    "    def sample(self, batch_size):\n",
    "        mini_batch = random.sample(self.memory, batch_size)\n",
    "        state_list, action_list, reward_list, nextState_list, done_list = [], [], [], [], []\n",
    "        \n",
    "        for transition in mini_batch:\n",
    "            state, action, reward, next_state, done = transition\n",
    "            state_list.append(state)\n",
    "            action_list.append([action])\n",
    "            reward_list.append([reward])\n",
    "            nextState_list.append(next_state)\n",
    "            done_list.append([done])\n",
    "            \n",
    "        return torch.tensor(state_list, dtype=torch.float), \\\n",
    "                torch.tensor(action_list), \\\n",
    "                torch.tensor(reward_list), \\\n",
    "                torch.tensor(nextState_list, dtype=torch.float), \\\n",
    "                torch.tensor(done_list)\n",
    "    \n",
    "    def size(self):\n",
    "        return len(self.memory)\n",
    "    \n",
    "    \n",
    "def epsilon_greedy(q_function, epsilon):\n",
    "    if random.random() > epsilon: # greedy\n",
    "        return np.argmax(q_function.detach().numpy())\n",
    "    else:\n",
    "        return random.randint(0, 5)"
   ]
  },
  {
   "cell_type": "markdown",
   "metadata": {},
   "source": [
    "### Training function\n",
    "- <font color='red'>Fill the contents</font>"
   ]
  },
  {
   "cell_type": "code",
   "execution_count": 10,
   "metadata": {
    "ExecuteTime": {
     "end_time": "2021-05-15T09:52:08.067922Z",
     "start_time": "2021-05-15T09:52:08.056924Z"
    }
   },
   "outputs": [],
   "source": [
    "def training(current_dqn, target_dqn, replay_memory, optimizer, gamma, batch_size):\n",
    "    if replay_memory.size() < batch_size:\n",
    "        return\n",
    "    state, action, reward, next_state, done = replay_memory.sample(batch_size)\n",
    "\n",
    "    # compute q value from Online Network\n",
    "    current_dqn_out = current_dqn(state)\n",
    "    current_dqn_a = current_dqn_out.gather(1, action)\n",
    "\n",
    "    # compute q value from Target Network with no back-propagation\n",
    "    target_dqn.eval()\n",
    "    max_target_dqn_out = target_dqn(next_state).max(1)[0].unsqueeze(1)\n",
    "\n",
    "    # Caculate target & loss(mse_loss)\n",
    "    target = reward + gamma * max_target_dqn_out * done\n",
    "    loss = F.mse_loss(current_dqn_a, target)  \n",
    "\n",
    "    # Back-propagation\n",
    "    optimizer.zero_grad()\n",
    "    loss.backward()\n",
    "    optimizer.step()    "
   ]
  },
  {
   "cell_type": "markdown",
   "metadata": {},
   "source": [
    "### Main code"
   ]
  },
  {
   "cell_type": "code",
   "execution_count": 19,
   "metadata": {
    "ExecuteTime": {
     "end_time": "2021-05-15T10:16:46.592072Z",
     "start_time": "2021-05-15T09:52:11.733922Z"
    }
   },
   "outputs": [
    {
     "data": {
      "application/vnd.jupyter.widget-view+json": {
       "model_id": "a59ebb8b0e534c50ac7a780ca430dfb0",
       "version_major": 2,
       "version_minor": 0
      },
      "text/plain": [
       "HBox(children=(FloatProgress(value=0.0, max=15000.0), HTML(value='')))"
      ]
     },
     "metadata": {},
     "output_type": "display_data"
    },
    {
     "name": "stdout",
     "output_type": "stream",
     "text": [
      "n_episode :50, total_reward : -704.0, n_buffer : 10112, eps : 91.4% steps: 198\n",
      "n_episode :100, total_reward : -641.0, n_buffer : 19895, eps : 81.9% steps: 198\n",
      "n_episode :150, total_reward : -515.0, n_buffer : 29650, eps : 73.4% steps: 198\n",
      "n_episode :200, total_reward : -479.0, n_buffer : 38718, eps : 66.0% steps: 198\n",
      "n_episode :250, total_reward : -203.0, n_buffer : 48049, eps : 59.4% steps: 96\n",
      "n_episode :300, total_reward : -443.0, n_buffer : 50000, eps : 53.6% steps: 198\n",
      "n_episode :350, total_reward : -515.0, n_buffer : 50000, eps : 48.5% steps: 198\n",
      "n_episode :400, total_reward : -7.0, n_buffer : 50000, eps : 43.9% steps: 8\n",
      "n_episode :450, total_reward : -35.0, n_buffer : 50000, eps : 40.0% steps: 36\n",
      "n_episode :500, total_reward : -335.0, n_buffer : 50000, eps : 36.4% steps: 198\n",
      "n_episode :550, total_reward : -115.0, n_buffer : 50000, eps : 33.3% steps: 89\n",
      "n_episode :600, total_reward : -39.0, n_buffer : 50000, eps : 30.6% steps: 22\n",
      "n_episode :650, total_reward : -416.0, n_buffer : 50000, eps : 28.2% steps: 198\n",
      "n_episode :700, total_reward : -30.0, n_buffer : 50000, eps : 26.0% steps: 31\n",
      "n_episode :750, total_reward : -78.0, n_buffer : 50000, eps : 24.2% steps: 43\n",
      "n_episode :800, total_reward : 7.0, n_buffer : 50000, eps : 22.5% steps: 12\n",
      "n_episode :850, total_reward : -59.0, n_buffer : 50000, eps : 21.0% steps: 51\n",
      "n_episode :900, total_reward : -17.0, n_buffer : 50000, eps : 19.7% steps: 27\n",
      "n_episode :950, total_reward : 9.0, n_buffer : 50000, eps : 18.6% steps: 10\n",
      "n_episode :1000, total_reward : -290.0, n_buffer : 50000, eps : 17.6% steps: 198\n",
      "n_episode :1050, total_reward : -88.0, n_buffer : 50000, eps : 16.7% steps: 89\n",
      "n_episode :1100, total_reward : -13.0, n_buffer : 50000, eps : 15.9% steps: 23\n",
      "n_episode :1150, total_reward : -17.0, n_buffer : 50000, eps : 15.2% steps: 18\n",
      "n_episode :1200, total_reward : 8.0, n_buffer : 50000, eps : 14.6% steps: 11\n",
      "n_episode :1250, total_reward : -6.0, n_buffer : 50000, eps : 14.1% steps: 16\n",
      "n_episode :1300, total_reward : 11.0, n_buffer : 50000, eps : 13.6% steps: 8\n",
      "n_episode :1350, total_reward : -5.0, n_buffer : 50000, eps : 13.2% steps: 15\n",
      "n_episode :1400, total_reward : -24.0, n_buffer : 50000, eps : 12.8% steps: 25\n",
      "n_episode :1450, total_reward : 8.0, n_buffer : 50000, eps : 12.5% steps: 11\n",
      "n_episode :1500, total_reward : 9.0, n_buffer : 50000, eps : 12.2% steps: 10\n",
      "n_episode :1550, total_reward : 1.0, n_buffer : 50000, eps : 11.9% steps: 9\n",
      "n_episode :1600, total_reward : -4.0, n_buffer : 50000, eps : 11.7% steps: 14\n",
      "n_episode :1650, total_reward : -10.0, n_buffer : 50000, eps : 11.5% steps: 20\n",
      "n_episode :1700, total_reward : -6.0, n_buffer : 50000, eps : 11.3% steps: 16\n",
      "n_episode :1750, total_reward : 3.0, n_buffer : 50000, eps : 11.2% steps: 16\n",
      "n_episode :1800, total_reward : 3.0, n_buffer : 50000, eps : 11.0% steps: 7\n",
      "n_episode :1850, total_reward : -9.0, n_buffer : 50000, eps : 10.9% steps: 19\n",
      "n_episode :1900, total_reward : 5.0, n_buffer : 50000, eps : 10.8% steps: 14\n",
      "n_episode :1950, total_reward : 8.0, n_buffer : 50000, eps : 10.7% steps: 11\n",
      "n_episode :2000, total_reward : 5.0, n_buffer : 50000, eps : 10.6% steps: 14\n",
      "n_episode :2050, total_reward : 4.0, n_buffer : 50000, eps : 10.5% steps: 15\n",
      "n_episode :2100, total_reward : 11.0, n_buffer : 50000, eps : 10.5% steps: 8\n",
      "n_episode :2150, total_reward : -14.0, n_buffer : 50000, eps : 10.4% steps: 15\n",
      "n_episode :2200, total_reward : 7.0, n_buffer : 50000, eps : 10.4% steps: 12\n",
      "n_episode :2250, total_reward : 8.0, n_buffer : 50000, eps : 10.3% steps: 11\n",
      "n_episode :2300, total_reward : 14.0, n_buffer : 50000, eps : 10.3% steps: 5\n",
      "n_episode :2350, total_reward : -6.0, n_buffer : 50000, eps : 10.3% steps: 16\n",
      "n_episode :2400, total_reward : 5.0, n_buffer : 50000, eps : 10.2% steps: 14\n",
      "n_episode :2450, total_reward : 10.0, n_buffer : 50000, eps : 10.2% steps: 9\n",
      "n_episode :2500, total_reward : 7.0, n_buffer : 50000, eps : 10.2% steps: 12\n",
      "n_episode :2550, total_reward : 7.0, n_buffer : 50000, eps : 10.2% steps: 12\n",
      "n_episode :2600, total_reward : 6.0, n_buffer : 50000, eps : 10.1% steps: 13\n",
      "n_episode :2650, total_reward : 9.0, n_buffer : 50000, eps : 10.1% steps: 10\n",
      "n_episode :2700, total_reward : -3.0, n_buffer : 50000, eps : 10.1% steps: 13\n",
      "n_episode :2750, total_reward : -14.0, n_buffer : 50000, eps : 10.1% steps: 15\n",
      "n_episode :2800, total_reward : 3.0, n_buffer : 50000, eps : 10.1% steps: 16\n",
      "n_episode :2850, total_reward : 7.0, n_buffer : 50000, eps : 10.1% steps: 12\n",
      "n_episode :2900, total_reward : 8.0, n_buffer : 50000, eps : 10.1% steps: 11\n",
      "n_episode :2950, total_reward : -4.0, n_buffer : 50000, eps : 10.1% steps: 14\n",
      "n_episode :3000, total_reward : 3.0, n_buffer : 50000, eps : 10.1% steps: 16\n",
      "n_episode :3050, total_reward : 4.0, n_buffer : 50000, eps : 10.0% steps: 15\n",
      "n_episode :3100, total_reward : -17.0, n_buffer : 50000, eps : 10.0% steps: 18\n",
      "n_episode :3150, total_reward : -1.0, n_buffer : 50000, eps : 10.0% steps: 11\n",
      "n_episode :3200, total_reward : 10.0, n_buffer : 50000, eps : 10.0% steps: 9\n",
      "n_episode :3250, total_reward : 10.0, n_buffer : 50000, eps : 10.0% steps: 9\n",
      "n_episode :3300, total_reward : 5.0, n_buffer : 50000, eps : 10.0% steps: 14\n",
      "n_episode :3350, total_reward : -14.0, n_buffer : 50000, eps : 10.0% steps: 15\n",
      "n_episode :3400, total_reward : 11.0, n_buffer : 50000, eps : 10.0% steps: 8\n",
      "n_episode :3450, total_reward : -3.0, n_buffer : 50000, eps : 10.0% steps: 13\n",
      "n_episode :3500, total_reward : 4.0, n_buffer : 50000, eps : 10.0% steps: 15\n",
      "n_episode :3550, total_reward : 5.0, n_buffer : 50000, eps : 10.0% steps: 14\n",
      "n_episode :3600, total_reward : -5.0, n_buffer : 50000, eps : 10.0% steps: 15\n",
      "n_episode :3650, total_reward : 3.0, n_buffer : 50000, eps : 10.0% steps: 16\n",
      "n_episode :3700, total_reward : -15.0, n_buffer : 50000, eps : 10.0% steps: 16\n",
      "n_episode :3750, total_reward : 8.0, n_buffer : 50000, eps : 10.0% steps: 11\n",
      "n_episode :3800, total_reward : 9.0, n_buffer : 50000, eps : 10.0% steps: 10\n",
      "n_episode :3850, total_reward : -6.0, n_buffer : 50000, eps : 10.0% steps: 16\n",
      "n_episode :3900, total_reward : -2.0, n_buffer : 50000, eps : 10.0% steps: 21\n",
      "n_episode :3950, total_reward : 3.0, n_buffer : 50000, eps : 10.0% steps: 16\n",
      "n_episode :4000, total_reward : 9.0, n_buffer : 50000, eps : 10.0% steps: 10\n",
      "n_episode :4050, total_reward : 6.0, n_buffer : 50000, eps : 10.0% steps: 13\n",
      "n_episode :4100, total_reward : 1.0, n_buffer : 50000, eps : 10.0% steps: 18\n",
      "n_episode :4150, total_reward : 9.0, n_buffer : 50000, eps : 10.0% steps: 10\n",
      "n_episode :4200, total_reward : 7.0, n_buffer : 50000, eps : 10.0% steps: 12\n",
      "n_episode :4250, total_reward : 6.0, n_buffer : 50000, eps : 10.0% steps: 13\n",
      "n_episode :4300, total_reward : 9.0, n_buffer : 50000, eps : 10.0% steps: 10\n",
      "n_episode :4350, total_reward : 7.0, n_buffer : 50000, eps : 10.0% steps: 12\n",
      "n_episode :4400, total_reward : -2.0, n_buffer : 50000, eps : 10.0% steps: 12\n",
      "n_episode :4450, total_reward : 7.0, n_buffer : 50000, eps : 10.0% steps: 12\n",
      "n_episode :4500, total_reward : 12.0, n_buffer : 50000, eps : 10.0% steps: 7\n",
      "n_episode :4550, total_reward : 5.0, n_buffer : 50000, eps : 10.0% steps: 14\n",
      "n_episode :4600, total_reward : 5.0, n_buffer : 50000, eps : 10.0% steps: 14\n",
      "n_episode :4650, total_reward : 8.0, n_buffer : 50000, eps : 10.0% steps: 11\n",
      "n_episode :4700, total_reward : -42.0, n_buffer : 50000, eps : 10.0% steps: 25\n",
      "n_episode :4750, total_reward : 6.0, n_buffer : 50000, eps : 10.0% steps: 13\n",
      "n_episode :4800, total_reward : -9.0, n_buffer : 50000, eps : 10.0% steps: 10\n",
      "n_episode :4850, total_reward : 11.0, n_buffer : 50000, eps : 10.0% steps: 8\n",
      "n_episode :4900, total_reward : -7.0, n_buffer : 50000, eps : 10.0% steps: 17\n",
      "n_episode :4950, total_reward : 8.0, n_buffer : 50000, eps : 10.0% steps: 11\n",
      "n_episode :5000, total_reward : 0.0, n_buffer : 50000, eps : 10.0% steps: 19\n",
      "n_episode :5050, total_reward : 6.0, n_buffer : 50000, eps : 10.0% steps: 13\n",
      "n_episode :5100, total_reward : 9.0, n_buffer : 50000, eps : 10.0% steps: 10\n",
      "n_episode :5150, total_reward : 10.0, n_buffer : 50000, eps : 10.0% steps: 9\n",
      "n_episode :5200, total_reward : 3.0, n_buffer : 50000, eps : 10.0% steps: 16\n",
      "n_episode :5250, total_reward : 8.0, n_buffer : 50000, eps : 10.0% steps: 11\n",
      "n_episode :5300, total_reward : -2.0, n_buffer : 50000, eps : 10.0% steps: 12\n"
     ]
    },
    {
     "name": "stdout",
     "output_type": "stream",
     "text": [
      "n_episode :5350, total_reward : 3.0, n_buffer : 50000, eps : 10.0% steps: 16\n",
      "n_episode :5400, total_reward : -6.0, n_buffer : 50000, eps : 10.0% steps: 16\n",
      "n_episode :5450, total_reward : 6.0, n_buffer : 50000, eps : 10.0% steps: 13\n",
      "n_episode :5500, total_reward : -2.0, n_buffer : 50000, eps : 10.0% steps: 12\n",
      "n_episode :5550, total_reward : 8.0, n_buffer : 50000, eps : 10.0% steps: 11\n",
      "n_episode :5600, total_reward : 11.0, n_buffer : 50000, eps : 10.0% steps: 8\n",
      "n_episode :5650, total_reward : 3.0, n_buffer : 50000, eps : 10.0% steps: 16\n",
      "n_episode :5700, total_reward : -7.0, n_buffer : 50000, eps : 10.0% steps: 17\n",
      "n_episode :5750, total_reward : -5.0, n_buffer : 50000, eps : 10.0% steps: 15\n",
      "n_episode :5800, total_reward : -14.0, n_buffer : 50000, eps : 10.0% steps: 15\n",
      "n_episode :5850, total_reward : 9.0, n_buffer : 50000, eps : 10.0% steps: 10\n",
      "n_episode :5900, total_reward : -29.0, n_buffer : 50000, eps : 10.0% steps: 21\n",
      "n_episode :5950, total_reward : 4.0, n_buffer : 50000, eps : 10.0% steps: 15\n",
      "n_episode :6000, total_reward : -7.0, n_buffer : 50000, eps : 10.0% steps: 17\n",
      "n_episode :6050, total_reward : -3.0, n_buffer : 50000, eps : 10.0% steps: 13\n",
      "n_episode :6100, total_reward : -4.0, n_buffer : 50000, eps : 10.0% steps: 14\n",
      "n_episode :6150, total_reward : 5.0, n_buffer : 50000, eps : 10.0% steps: 14\n",
      "n_episode :6200, total_reward : -13.0, n_buffer : 50000, eps : 10.0% steps: 14\n",
      "n_episode :6250, total_reward : -17.0, n_buffer : 50000, eps : 10.0% steps: 18\n",
      "n_episode :6300, total_reward : 5.0, n_buffer : 50000, eps : 10.0% steps: 14\n",
      "n_episode :6350, total_reward : 4.0, n_buffer : 50000, eps : 10.0% steps: 15\n",
      "n_episode :6400, total_reward : -2.0, n_buffer : 50000, eps : 10.0% steps: 12\n",
      "n_episode :6450, total_reward : 5.0, n_buffer : 50000, eps : 10.0% steps: 14\n",
      "n_episode :6500, total_reward : -8.0, n_buffer : 50000, eps : 10.0% steps: 18\n",
      "n_episode :6550, total_reward : 4.0, n_buffer : 50000, eps : 10.0% steps: 15\n",
      "n_episode :6600, total_reward : 7.0, n_buffer : 50000, eps : 10.0% steps: 12\n",
      "n_episode :6650, total_reward : 11.0, n_buffer : 50000, eps : 10.0% steps: 8\n",
      "n_episode :6700, total_reward : 9.0, n_buffer : 50000, eps : 10.0% steps: 10\n",
      "n_episode :6750, total_reward : 3.0, n_buffer : 50000, eps : 10.0% steps: 16\n",
      "n_episode :6800, total_reward : -7.0, n_buffer : 50000, eps : 10.0% steps: 17\n",
      "n_episode :6850, total_reward : 8.0, n_buffer : 50000, eps : 10.0% steps: 11\n",
      "n_episode :6900, total_reward : 7.0, n_buffer : 50000, eps : 10.0% steps: 12\n",
      "n_episode :6950, total_reward : 7.0, n_buffer : 50000, eps : 10.0% steps: 12\n",
      "n_episode :7000, total_reward : -9.0, n_buffer : 50000, eps : 10.0% steps: 19\n",
      "n_episode :7050, total_reward : 10.0, n_buffer : 50000, eps : 10.0% steps: 9\n",
      "n_episode :7100, total_reward : -3.0, n_buffer : 50000, eps : 10.0% steps: 13\n",
      "n_episode :7150, total_reward : 4.0, n_buffer : 50000, eps : 10.0% steps: 15\n",
      "n_episode :7200, total_reward : 12.0, n_buffer : 50000, eps : 10.0% steps: 7\n",
      "n_episode :7250, total_reward : 13.0, n_buffer : 50000, eps : 10.0% steps: 6\n",
      "n_episode :7300, total_reward : 8.0, n_buffer : 50000, eps : 10.0% steps: 11\n",
      "n_episode :7350, total_reward : 5.0, n_buffer : 50000, eps : 10.0% steps: 14\n",
      "n_episode :7400, total_reward : 6.0, n_buffer : 50000, eps : 10.0% steps: 13\n",
      "n_episode :7450, total_reward : -4.0, n_buffer : 50000, eps : 10.0% steps: 14\n",
      "n_episode :7500, total_reward : 2.0, n_buffer : 50000, eps : 10.0% steps: 8\n",
      "n_episode :7550, total_reward : 9.0, n_buffer : 50000, eps : 10.0% steps: 10\n",
      "n_episode :7600, total_reward : 4.0, n_buffer : 50000, eps : 10.0% steps: 15\n",
      "n_episode :7650, total_reward : 5.0, n_buffer : 50000, eps : 10.0% steps: 14\n",
      "n_episode :7700, total_reward : -1.0, n_buffer : 50000, eps : 10.0% steps: 11\n",
      "n_episode :7750, total_reward : 1.0, n_buffer : 50000, eps : 10.0% steps: 9\n",
      "n_episode :7800, total_reward : 6.0, n_buffer : 50000, eps : 10.0% steps: 13\n",
      "n_episode :7850, total_reward : 6.0, n_buffer : 50000, eps : 10.0% steps: 13\n",
      "n_episode :7900, total_reward : -8.0, n_buffer : 50000, eps : 10.0% steps: 18\n",
      "n_episode :7950, total_reward : -1.0, n_buffer : 50000, eps : 10.0% steps: 11\n",
      "n_episode :8000, total_reward : 5.0, n_buffer : 50000, eps : 10.0% steps: 14\n",
      "n_episode :8050, total_reward : -3.0, n_buffer : 50000, eps : 10.0% steps: 13\n",
      "n_episode :8100, total_reward : 7.0, n_buffer : 50000, eps : 10.0% steps: 12\n",
      "n_episode :8150, total_reward : -18.0, n_buffer : 50000, eps : 10.0% steps: 19\n",
      "n_episode :8200, total_reward : -9.0, n_buffer : 50000, eps : 10.0% steps: 19\n",
      "n_episode :8250, total_reward : 10.0, n_buffer : 50000, eps : 10.0% steps: 9\n",
      "n_episode :8300, total_reward : 5.0, n_buffer : 50000, eps : 10.0% steps: 14\n",
      "n_episode :8350, total_reward : 1.0, n_buffer : 50000, eps : 10.0% steps: 9\n",
      "n_episode :8400, total_reward : 8.0, n_buffer : 50000, eps : 10.0% steps: 11\n",
      "n_episode :8450, total_reward : 2.0, n_buffer : 50000, eps : 10.0% steps: 17\n",
      "n_episode :8500, total_reward : 6.0, n_buffer : 50000, eps : 10.0% steps: 13\n",
      "n_episode :8550, total_reward : -6.0, n_buffer : 50000, eps : 10.0% steps: 16\n",
      "n_episode :8600, total_reward : 11.0, n_buffer : 50000, eps : 10.0% steps: 8\n",
      "n_episode :8650, total_reward : 12.0, n_buffer : 50000, eps : 10.0% steps: 7\n",
      "n_episode :8700, total_reward : -17.0, n_buffer : 50000, eps : 10.0% steps: 18\n",
      "n_episode :8750, total_reward : -2.0, n_buffer : 50000, eps : 10.0% steps: 12\n",
      "n_episode :8800, total_reward : 1.0, n_buffer : 50000, eps : 10.0% steps: 18\n",
      "n_episode :8850, total_reward : 11.0, n_buffer : 50000, eps : 10.0% steps: 8\n",
      "n_episode :8900, total_reward : -4.0, n_buffer : 50000, eps : 10.0% steps: 14\n",
      "n_episode :8950, total_reward : 7.0, n_buffer : 50000, eps : 10.0% steps: 12\n",
      "n_episode :9000, total_reward : 10.0, n_buffer : 50000, eps : 10.0% steps: 9\n",
      "n_episode :9050, total_reward : 0.0, n_buffer : 50000, eps : 10.0% steps: 19\n",
      "n_episode :9100, total_reward : 7.0, n_buffer : 50000, eps : 10.0% steps: 12\n",
      "n_episode :9150, total_reward : 3.0, n_buffer : 50000, eps : 10.0% steps: 16\n",
      "n_episode :9200, total_reward : 7.0, n_buffer : 50000, eps : 10.0% steps: 12\n",
      "n_episode :9250, total_reward : -7.0, n_buffer : 50000, eps : 10.0% steps: 17\n",
      "n_episode :9300, total_reward : 4.0, n_buffer : 50000, eps : 10.0% steps: 15\n",
      "n_episode :9350, total_reward : 2.0, n_buffer : 50000, eps : 10.0% steps: 17\n",
      "n_episode :9400, total_reward : 3.0, n_buffer : 50000, eps : 10.0% steps: 16\n",
      "n_episode :9450, total_reward : 4.0, n_buffer : 50000, eps : 10.0% steps: 15\n",
      "n_episode :9500, total_reward : 8.0, n_buffer : 50000, eps : 10.0% steps: 11\n",
      "n_episode :9550, total_reward : 6.0, n_buffer : 50000, eps : 10.0% steps: 13\n",
      "n_episode :9600, total_reward : -24.0, n_buffer : 50000, eps : 10.0% steps: 16\n",
      "n_episode :9650, total_reward : 6.0, n_buffer : 50000, eps : 10.0% steps: 13\n",
      "n_episode :9700, total_reward : 7.0, n_buffer : 50000, eps : 10.0% steps: 12\n",
      "n_episode :9750, total_reward : 6.0, n_buffer : 50000, eps : 10.0% steps: 13\n",
      "n_episode :9800, total_reward : -1.0, n_buffer : 50000, eps : 10.0% steps: 11\n",
      "n_episode :9850, total_reward : 2.0, n_buffer : 50000, eps : 10.0% steps: 17\n",
      "n_episode :9900, total_reward : 7.0, n_buffer : 50000, eps : 10.0% steps: 12\n",
      "n_episode :9950, total_reward : 1.0, n_buffer : 50000, eps : 10.0% steps: 18\n",
      "n_episode :10000, total_reward : 6.0, n_buffer : 50000, eps : 10.0% steps: 13\n",
      "n_episode :10050, total_reward : -2.0, n_buffer : 50000, eps : 10.0% steps: 12\n",
      "n_episode :10100, total_reward : 6.0, n_buffer : 50000, eps : 10.0% steps: 13\n",
      "n_episode :10150, total_reward : 0.0, n_buffer : 50000, eps : 10.0% steps: 10\n",
      "n_episode :10200, total_reward : 2.0, n_buffer : 50000, eps : 10.0% steps: 17\n",
      "n_episode :10250, total_reward : -4.0, n_buffer : 50000, eps : 10.0% steps: 14\n",
      "n_episode :10300, total_reward : 12.0, n_buffer : 50000, eps : 10.0% steps: 7\n",
      "n_episode :10350, total_reward : 4.0, n_buffer : 50000, eps : 10.0% steps: 15\n",
      "n_episode :10400, total_reward : 4.0, n_buffer : 50000, eps : 10.0% steps: 15\n",
      "n_episode :10450, total_reward : -2.0, n_buffer : 50000, eps : 10.0% steps: 12\n",
      "n_episode :10500, total_reward : 10.0, n_buffer : 50000, eps : 10.0% steps: 9\n",
      "n_episode :10550, total_reward : 8.0, n_buffer : 50000, eps : 10.0% steps: 11\n",
      "n_episode :10600, total_reward : 7.0, n_buffer : 50000, eps : 10.0% steps: 12\n"
     ]
    },
    {
     "name": "stdout",
     "output_type": "stream",
     "text": [
      "n_episode :10650, total_reward : 8.0, n_buffer : 50000, eps : 10.0% steps: 11\n",
      "n_episode :10700, total_reward : 6.0, n_buffer : 50000, eps : 10.0% steps: 13\n",
      "n_episode :10750, total_reward : 6.0, n_buffer : 50000, eps : 10.0% steps: 13\n",
      "n_episode :10800, total_reward : 10.0, n_buffer : 50000, eps : 10.0% steps: 9\n",
      "n_episode :10850, total_reward : -5.0, n_buffer : 50000, eps : 10.0% steps: 15\n",
      "n_episode :10900, total_reward : 10.0, n_buffer : 50000, eps : 10.0% steps: 9\n",
      "n_episode :10950, total_reward : 9.0, n_buffer : 50000, eps : 10.0% steps: 10\n",
      "n_episode :11000, total_reward : 2.0, n_buffer : 50000, eps : 10.0% steps: 8\n",
      "n_episode :11050, total_reward : -1.0, n_buffer : 50000, eps : 10.0% steps: 11\n",
      "n_episode :11100, total_reward : 3.0, n_buffer : 50000, eps : 10.0% steps: 16\n",
      "n_episode :11150, total_reward : 5.0, n_buffer : 50000, eps : 10.0% steps: 14\n",
      "n_episode :11200, total_reward : -4.0, n_buffer : 50000, eps : 10.0% steps: 14\n",
      "n_episode :11250, total_reward : -4.0, n_buffer : 50000, eps : 10.0% steps: 14\n",
      "n_episode :11300, total_reward : 5.0, n_buffer : 50000, eps : 10.0% steps: 14\n",
      "n_episode :11350, total_reward : -13.0, n_buffer : 50000, eps : 10.0% steps: 14\n",
      "n_episode :11400, total_reward : 4.0, n_buffer : 50000, eps : 10.0% steps: 15\n",
      "n_episode :11450, total_reward : 5.0, n_buffer : 50000, eps : 10.0% steps: 14\n",
      "n_episode :11500, total_reward : 5.0, n_buffer : 50000, eps : 10.0% steps: 14\n",
      "n_episode :11550, total_reward : 11.0, n_buffer : 50000, eps : 10.0% steps: 8\n",
      "n_episode :11600, total_reward : -1.0, n_buffer : 50000, eps : 10.0% steps: 11\n",
      "n_episode :11650, total_reward : 5.0, n_buffer : 50000, eps : 10.0% steps: 14\n",
      "n_episode :11700, total_reward : 7.0, n_buffer : 50000, eps : 10.0% steps: 12\n",
      "n_episode :11750, total_reward : -4.0, n_buffer : 50000, eps : 10.0% steps: 14\n",
      "n_episode :11800, total_reward : -8.0, n_buffer : 50000, eps : 10.0% steps: 18\n",
      "n_episode :11850, total_reward : -28.0, n_buffer : 50000, eps : 10.0% steps: 20\n",
      "n_episode :11900, total_reward : -5.0, n_buffer : 50000, eps : 10.0% steps: 15\n",
      "n_episode :11950, total_reward : 13.0, n_buffer : 50000, eps : 10.0% steps: 6\n",
      "n_episode :12000, total_reward : 1.0, n_buffer : 50000, eps : 10.0% steps: 9\n",
      "n_episode :12050, total_reward : 9.0, n_buffer : 50000, eps : 10.0% steps: 10\n",
      "n_episode :12100, total_reward : 10.0, n_buffer : 50000, eps : 10.0% steps: 9\n",
      "n_episode :12150, total_reward : -7.0, n_buffer : 50000, eps : 10.0% steps: 17\n",
      "n_episode :12200, total_reward : 11.0, n_buffer : 50000, eps : 10.0% steps: 8\n",
      "n_episode :12250, total_reward : -4.0, n_buffer : 50000, eps : 10.0% steps: 14\n",
      "n_episode :12300, total_reward : 9.0, n_buffer : 50000, eps : 10.0% steps: 10\n",
      "n_episode :12350, total_reward : 14.0, n_buffer : 50000, eps : 10.0% steps: 5\n",
      "n_episode :12400, total_reward : 5.0, n_buffer : 50000, eps : 10.0% steps: 14\n",
      "n_episode :12450, total_reward : -3.0, n_buffer : 50000, eps : 10.0% steps: 13\n",
      "n_episode :12500, total_reward : 6.0, n_buffer : 50000, eps : 10.0% steps: 13\n",
      "n_episode :12550, total_reward : 4.0, n_buffer : 50000, eps : 10.0% steps: 15\n",
      "n_episode :12600, total_reward : 6.0, n_buffer : 50000, eps : 10.0% steps: 13\n",
      "n_episode :12650, total_reward : -16.0, n_buffer : 50000, eps : 10.0% steps: 17\n",
      "n_episode :12700, total_reward : 6.0, n_buffer : 50000, eps : 10.0% steps: 13\n",
      "n_episode :12750, total_reward : 4.0, n_buffer : 50000, eps : 10.0% steps: 15\n",
      "n_episode :12800, total_reward : 3.0, n_buffer : 50000, eps : 10.0% steps: 16\n",
      "n_episode :12850, total_reward : -11.0, n_buffer : 50000, eps : 10.0% steps: 12\n",
      "n_episode :12900, total_reward : 4.0, n_buffer : 50000, eps : 10.0% steps: 15\n",
      "n_episode :12950, total_reward : 2.0, n_buffer : 50000, eps : 10.0% steps: 17\n",
      "n_episode :13000, total_reward : 5.0, n_buffer : 50000, eps : 10.0% steps: 14\n",
      "n_episode :13050, total_reward : -5.0, n_buffer : 50000, eps : 10.0% steps: 15\n",
      "n_episode :13100, total_reward : 9.0, n_buffer : 50000, eps : 10.0% steps: 10\n",
      "n_episode :13150, total_reward : 12.0, n_buffer : 50000, eps : 10.0% steps: 7\n",
      "n_episode :13200, total_reward : 0.0, n_buffer : 50000, eps : 10.0% steps: 19\n",
      "n_episode :13250, total_reward : -5.0, n_buffer : 50000, eps : 10.0% steps: 15\n",
      "n_episode :13300, total_reward : -9.0, n_buffer : 50000, eps : 10.0% steps: 10\n",
      "n_episode :13350, total_reward : 10.0, n_buffer : 50000, eps : 10.0% steps: 9\n",
      "n_episode :13400, total_reward : -15.0, n_buffer : 50000, eps : 10.0% steps: 16\n",
      "n_episode :13450, total_reward : 9.0, n_buffer : 50000, eps : 10.0% steps: 10\n",
      "n_episode :13500, total_reward : 1.0, n_buffer : 50000, eps : 10.0% steps: 18\n",
      "n_episode :13550, total_reward : 4.0, n_buffer : 50000, eps : 10.0% steps: 15\n",
      "n_episode :13600, total_reward : 1.0, n_buffer : 50000, eps : 10.0% steps: 18\n",
      "n_episode :13650, total_reward : 5.0, n_buffer : 50000, eps : 10.0% steps: 14\n",
      "n_episode :13700, total_reward : 7.0, n_buffer : 50000, eps : 10.0% steps: 12\n",
      "n_episode :13750, total_reward : 10.0, n_buffer : 50000, eps : 10.0% steps: 9\n",
      "n_episode :13800, total_reward : 8.0, n_buffer : 50000, eps : 10.0% steps: 11\n",
      "n_episode :13850, total_reward : -7.0, n_buffer : 50000, eps : 10.0% steps: 17\n",
      "n_episode :13900, total_reward : 3.0, n_buffer : 50000, eps : 10.0% steps: 16\n",
      "n_episode :13950, total_reward : -12.0, n_buffer : 50000, eps : 10.0% steps: 22\n",
      "n_episode :14000, total_reward : 5.0, n_buffer : 50000, eps : 10.0% steps: 14\n",
      "n_episode :14050, total_reward : 9.0, n_buffer : 50000, eps : 10.0% steps: 10\n",
      "n_episode :14100, total_reward : -7.0, n_buffer : 50000, eps : 10.0% steps: 17\n",
      "n_episode :14150, total_reward : 6.0, n_buffer : 50000, eps : 10.0% steps: 13\n",
      "n_episode :14200, total_reward : -8.0, n_buffer : 50000, eps : 10.0% steps: 18\n",
      "n_episode :14250, total_reward : 9.0, n_buffer : 50000, eps : 10.0% steps: 10\n",
      "n_episode :14300, total_reward : 7.0, n_buffer : 50000, eps : 10.0% steps: 12\n",
      "n_episode :14350, total_reward : 7.0, n_buffer : 50000, eps : 10.0% steps: 12\n",
      "n_episode :14400, total_reward : 8.0, n_buffer : 50000, eps : 10.0% steps: 11\n",
      "n_episode :14450, total_reward : 8.0, n_buffer : 50000, eps : 10.0% steps: 11\n",
      "n_episode :14500, total_reward : 4.0, n_buffer : 50000, eps : 10.0% steps: 15\n",
      "n_episode :14550, total_reward : -2.0, n_buffer : 50000, eps : 10.0% steps: 12\n",
      "n_episode :14600, total_reward : 11.0, n_buffer : 50000, eps : 10.0% steps: 8\n",
      "n_episode :14650, total_reward : 9.0, n_buffer : 50000, eps : 10.0% steps: 10\n",
      "n_episode :14700, total_reward : -7.0, n_buffer : 50000, eps : 10.0% steps: 17\n",
      "n_episode :14750, total_reward : 2.0, n_buffer : 50000, eps : 10.0% steps: 17\n",
      "n_episode :14800, total_reward : 0.0, n_buffer : 50000, eps : 10.0% steps: 19\n",
      "n_episode :14850, total_reward : -6.0, n_buffer : 50000, eps : 10.0% steps: 16\n",
      "n_episode :14900, total_reward : 10.0, n_buffer : 50000, eps : 10.0% steps: 9\n",
      "n_episode :14950, total_reward : -16.0, n_buffer : 50000, eps : 10.0% steps: 17\n",
      "\n"
     ]
    }
   ],
   "source": [
    "current_dqn = DQN()\n",
    "target_dqn = DQN()\n",
    "target_dqn.load_state_dict(current_dqn.state_dict())\n",
    "replay_memory = Memory()\n",
    "optimizer_adam = optim.Adam(current_dqn.parameters(), lr=LEARNING_RATE)\n",
    "t = 0\n",
    "epi_rewards = []\n",
    "weight_changes = {k:{'stats': [], 'pval': []} for k, _ in current_dqn.named_parameters()}\n",
    "weight_diff = []\n",
    "\n",
    "#for epi in range(EPISODES):\n",
    "for epi in tqdm(range(EPISODES)):\n",
    "    obs = env.reset()\n",
    "    obs = [i for i in env.decode(obs)] # \"obs\" has a value in [500]\n",
    "                                       # we convert it in the form of tuple (taxi_row, taxi_col, passenger_location, destination)\n",
    "                                       # where taxi_row in [5], taxi_col in [5], passenger_location in [5], destination in [4]\n",
    "                                       # \"If you do not want to have this conversion\", you may skip this decoding part. \n",
    "    done = False\n",
    "    total_reward = 0\n",
    "    \n",
    "    # some additional hyper-parameters\n",
    "    WARMUP_EPISODE = 10\n",
    "    MIN_EPSILON = 0.1\n",
    "    EPSILON_DECAY = 400\n",
    "    \n",
    "    # epsilon decay (exponential decay)\n",
    "    epsilon = MIN_EPSILON + (EPSILON - MIN_EPSILON) * np.exp(-((epi-WARMUP_EPISODE) / EPSILON_DECAY))\n",
    "    \n",
    "    # variant for print logs\n",
    "    print_interval = 50\n",
    "    step = 0\n",
    "\n",
    "    # Update replay_buffer\n",
    "    while not done:\n",
    "        action = epsilon_greedy(current_dqn(torch.tensor(obs, dtype=torch.float)), epsilon)     \n",
    "        next_obs, reward, done, info = env.step(action)\n",
    "        next_obs = [i for i in env.decode(next_obs)]\n",
    "        done_mask = 0.0 if done else 1\n",
    "        \n",
    "        # put transition in to replay_buffer\n",
    "        replay_memory.put((obs, action, reward, next_obs, done_mask))\n",
    "        \n",
    "        # train Online_Network (after Warmup episode)\n",
    "        if epi > WARMUP_EPISODE:\n",
    "            training(current_dqn, target_dqn, replay_memory, optimizer_adam, GAMMA, BATCH_SIZE) # weight updates\n",
    "\n",
    "        obs = next_obs\n",
    "        total_reward += reward\n",
    "\n",
    "        if done:\n",
    "            break\n",
    "        else:\n",
    "            step += 1\n",
    "\n",
    "    # Target Network update\n",
    "    if epi % TARGET_UPDATE == 0:\n",
    "        target_dqn.load_state_dict(current_dqn.state_dict())\n",
    "    \n",
    "    # print logs\n",
    "    if epi % print_interval == 0 and epi != 0:\n",
    "        print(\"n_episode :{}, total_reward : {:.1f}, n_buffer : {}, eps : {:.1f}% steps: {}\".format(\n",
    "                                                            epi, total_reward, replay_memory.size(), epsilon*100, step-1))\n",
    "\n",
    "    # save total_reward of one episode\n",
    "    epi_rewards.append(total_reward)\n",
    "    total_reward = 0\n",
    "    step = 0\n",
    "\n",
    "    # calculate weight differece for weight decrease logging\n",
    "    for name, param in current_dqn.named_parameters():\n",
    "        x = torch.flatten(current_dqn.state_dict()[name])\n",
    "        y = torch.flatten(target_dqn.state_dict()[name])\n",
    "\n",
    "        mse = sum(np.square(x - y))\n",
    "        weight_diff.append(mse)\n",
    "\n",
    "\n",
    "env.close()"
   ]
  },
  {
   "cell_type": "markdown",
   "metadata": {},
   "source": [
    "# Self test for convergence"
   ]
  },
  {
   "cell_type": "code",
   "execution_count": 20,
   "metadata": {},
   "outputs": [
    {
     "name": "stdout",
     "output_type": "stream",
     "text": [
      "Check whether model converges within 15000 episodes (in our codes, it successfully converges in 5000 episodes)\n",
      "    - Observe the weight changes to make sure that it converges (weight difference decreases).\n",
      "    - See the plot and check how fast does it converges.\n"
     ]
    },
    {
     "data": {
      "text/plain": [
       "Text(0.75, 0.2, 'This is an example')"
      ]
     },
     "execution_count": 20,
     "metadata": {},
     "output_type": "execute_result"
    },
    {
     "data": {
      "image/png": "[encoded data removed]",
      "text/plain": [
       "<Figure size 1440x288 with 1 Axes>"
      ]
     },
     "metadata": {
      "needs_background": "light"
     },
     "output_type": "display_data"
    }
   ],
   "source": [
    "print(\"Check whether model converges within 15000 episodes (in our codes, it successfully converges in 5000 episodes)\")\n",
    "print(\"    - Observe the weight changes to make sure that it converges (weight difference decreases).\")\n",
    "print(\"    - See the plot and check how fast does it converges.\")\n",
    "\n",
    "fig, ax = plt.subplots(figsize=(20, 4))\n",
    "ax.plot(weight_diff, label='weight difference (MSE)')\n",
    "ax.legend(fontsize=20)\n",
    "fig.text(0.75, 0.2, 'This is an example',\n",
    "         fontsize=80, color='gray',\n",
    "         ha='right', va='bottom', alpha=0.5)\n"
   ]
  },
  {
   "cell_type": "code",
   "execution_count": 21,
   "metadata": {},
   "outputs": [
    {
     "name": "stdout",
     "output_type": "stream",
     "text": [
      "The variance of rewards.\n"
     ]
    },
    {
     "data": {
      "image/png": "[encoded data removed]",
      "text/plain": [
       "<Figure size 1440x288 with 1 Axes>"
      ]
     },
     "metadata": {
      "needs_background": "light"
     },
     "output_type": "display_data"
    }
   ],
   "source": [
    "print(\"The variance of rewards.\")\n",
    "\n",
    "var = []\n",
    "wsize = 100 # window size\n",
    "for i in range(len(epi_rewards) - wsize):\n",
    "    var.append(np.var(epi_rewards[i:i + wsize]) / wsize)\n",
    "   \n",
    "fig, ax = plt.subplots(figsize=(20, 4))\n",
    "ax.plot(var, label='variance, wsize={}'.format(wsize))\n",
    "ax.legend(fontsize=20)\n",
    "fig.text(0.75, 0.15, 'This is an example',\n",
    "         fontsize=80, color='gray',\n",
    "         ha='right', va='bottom', alpha=0.5)\n",
    "\n",
    "plt.savefig('var_w={}.png'.format(wsize))\n"
   ]
  },
  {
   "cell_type": "markdown",
   "metadata": {},
   "source": [
    "# An example of evaluation"
   ]
  },
  {
   "cell_type": "code",
   "execution_count": 22,
   "metadata": {
    "ExecuteTime": {
     "end_time": "2021-05-15T10:16:46.985075Z",
     "start_time": "2021-05-15T10:16:46.625076Z"
    }
   },
   "outputs": [
    {
     "name": "stdout",
     "output_type": "stream",
     "text": [
      "Average reward (after convergence) is  2.1354135413541355\n",
      "Variance (after convergence) is  69.00116512301295\n",
      "The last episode less than -200 is 1512\n"
     ]
    },
    {
     "data": {
      "image/png": "[encoded data removed]",
      "text/plain": [
       "<Figure size 1440x288 with 1 Axes>"
      ]
     },
     "metadata": {
      "needs_background": "light"
     },
     "output_type": "display_data"
    }
   ],
   "source": [
    "torch.save(current_dqn.state_dict(), '001-20_model.pth')\n",
    "plt.figure(figsize=(20,4))\n",
    "plt.plot(epi_rewards)\n",
    "plt.savefig('001-20.png')\n",
    "\n",
    "\n",
    "# We are going to examine... \n",
    "#     average reward after convergence (larger is better)\n",
    "#     variance after convergence (smaller is better)\n",
    "#     the last episode below the threshold (small is better)\n",
    "\n",
    "# Below is an example of evaluation\n",
    "## TA will change the values of X and threshold for evaluation\n",
    "X = -10000\n",
    "threshold = -200  \n",
    "\n",
    "\n",
    "avg_reward = np.mean(epi_rewards[X:-1])\n",
    "print(\"Average reward (after convergence) is \", avg_reward)\n",
    "var_reward = np.var(epi_rewards[X:-1])\n",
    "print(\"Variance (after convergence) is \", var_reward)\n",
    "\n",
    "for i in range(len(epi_rewards)):\n",
    "    if(epi_rewards[i] <= threshold):\n",
    "        max_epi_threshold = i\n",
    "print(\"The last episode less than\", threshold, \"is\", max_epi_threshold)"
   ]
  }
 ],
 "metadata": {
  "kernelspec": {
   "display_name": "Python 3",
   "language": "python",
   "name": "python3"
  },
  "language_info": {
   "codemirror_mode": {
    "name": "ipython",
    "version": 3
   },
   "file_extension": ".py",
   "mimetype": "text/x-python",
   "name": "python",
   "nbconvert_exporter": "python",
   "pygments_lexer": "ipython3",
   "version": "3.8.3"
  },
  "toc": {
   "base_numbering": 1,
   "nav_menu": {},
   "number_sections": true,
   "sideBar": true,
   "skip_h1_title": false,
   "title_cell": "Table of Contents",
   "title_sidebar": "Contents",
   "toc_cell": false,
   "toc_position": {},
   "toc_section_display": true,
   "toc_window_display": false
  },
  "varInspector": {
   "cols": {
    "lenName": 16,
    "lenType": 16,
    "lenVar": 40
   },
   "kernels_config": {
    "python": {
     "delete_cmd_postfix": "",
     "delete_cmd_prefix": "del ",
     "library": "var_list.py",
     "varRefreshCmd": "print(var_dic_list())"
    },
    "r": {
     "delete_cmd_postfix": ") ",
     "delete_cmd_prefix": "rm(",
     "library": "var_list.r",
     "varRefreshCmd": "cat(var_dic_list()) "
    }
   },
   "types_to_exclude": [
    "module",
    "function",
    "builtin_function_or_method",
    "instance",
    "_Feature"
   ],
   "window_display": false
  }
 },
 "nbformat": 4,
 "nbformat_minor": 5
}
